{
 "cells": [
  {
   "cell_type": "markdown",
   "metadata": {},
   "source": [
    "# MATLAB-like API vs OOP API"
   ]
  },
  {
   "cell_type": "markdown",
   "metadata": {},
   "source": [
    "jrjohansson [github](https://github.com/jrjohansson/scientific-python-lectures/blob/master/Lecture-4-Matplotlib.ipynb)"
   ]
  },
  {
   "cell_type": "markdown",
   "metadata": {},
   "source": [
    "# MATLAB-like API"
   ]
  },
  {
   "cell_type": "code",
   "execution_count": 19,
   "metadata": {},
   "outputs": [
    {
     "data": {
      "image/png": "[encoded data removed]",
      "text/plain": [
       "<Figure size 432x288 with 1 Axes>"
      ]
     },
     "metadata": {
      "needs_background": "light"
     },
     "output_type": "display_data"
    }
   ],
   "source": [
    "import numpy as np\n",
    "import matplotlib.pyplot as plt\n",
    "\n",
    "x = np.linspace(0,3)\n",
    "y1 = x ** 2\n",
    "y2 = np.sqrt(x)\n",
    "\n",
    "#plt.figure()\n",
    "\n",
    "if 1:\n",
    "    plt.plot(x,y1)\n",
    "elif 0:\n",
    "    plt.subplot(2,3,1)\n",
    "    plt.plot(x,y1)\n",
    "    plt.subplot(2,3,2)\n",
    "    plt.plot(y1,x)\n",
    "    plt.subplot(2,3,3)\n",
    "    plt.plot(x,y1)\n",
    "    plt.subplot(2,3,4)\n",
    "    plt.plot(x,y2)\n",
    "    plt.subplot(2,3,5)\n",
    "    plt.plot(y2,x)\n",
    "    plt.subplot(2,3,6)\n",
    "    plt.plot(x,y2)\n",
    "elif 1:\n",
    "    # from jrjohansson:\n",
    "    # That was easy, \n",
    "    # but it isn't so pretty with overlapping figure axes and labels, \n",
    "    # right?\n",
    "    # We can deal with that by using the plt.tight_layout method, \n",
    "    # which automatically adjusts the positions of the axes \n",
    "    # on the figure canvas \n",
    "    # so that there is no overlapping content:\n",
    "    plt.subplot(2,3,1)\n",
    "    plt.plot(x,y1)\n",
    "    plt.subplot(2,3,2)\n",
    "    plt.plot(y1,x)\n",
    "    plt.subplot(2,3,3)\n",
    "    plt.plot(x,y1)\n",
    "    plt.subplot(2,3,4)\n",
    "    plt.plot(x,y2)\n",
    "    plt.subplot(2,3,5)\n",
    "    plt.plot(y2,x)\n",
    "    plt.subplot(2,3,6)\n",
    "    plt.plot(x,y2)\n",
    "    plt.tight_layout() # this line is added\n",
    "\n",
    "plt.show()"
   ]
  },
  {
   "cell_type": "markdown",
   "metadata": {},
   "source": [
    "# OOP API"
   ]
  },
  {
   "cell_type": "markdown",
   "metadata": {},
   "source": [
    "The main idea with object-oriented programming is to have objects that one can apply functions and actions on, and no object or program states should be global (such as the MATLAB-like API). The real advantage of this approach becomes apparent when more than one figure is created, or when a figure contains more than one subplot.\n",
    "\n",
    "To use the object-oriented API, instead of creating a new global figure instance we store a reference to the newly created figure instance in the  fig variable, and from it we create a new axis instance axes using the add_axes method in the Figure class instance fig:\n",
    "\n",
    "jrjohansson [github](https://github.com/jrjohansson/scientific-python-lectures/blob/master/Lecture-4-Matplotlib.ipynb)"
   ]
  },
  {
   "cell_type": "code",
   "execution_count": 33,
   "metadata": {},
   "outputs": [
    {
     "data": {
      "image/png": "[encoded data removed]",
      "text/plain": [
       "<Figure size 432x288 with 6 Axes>"
      ]
     },
     "metadata": {
      "needs_background": "light"
     },
     "output_type": "display_data"
    }
   ],
   "source": [
    "import numpy as np\n",
    "import matplotlib.pyplot as plt\n",
    "\n",
    "x = np.linspace(0,3)\n",
    "y1 = x ** 2\n",
    "y2 = np.sqrt(x)\n",
    "\n",
    "if 0:\n",
    "    fig = plt.figure()\n",
    "    ax = fig.add_axes([0.1, 0.1, 0.8, 0.8]) # left, bottom, width, height (range 0 to 1)\n",
    "    ax.plot(x, y1)\n",
    "elif 0:\n",
    "    fig = plt.figure()\n",
    "    ax1 = fig.add_axes([0.1, 0.1, 0.8, 0.8]) # main axes\n",
    "    ax2 = fig.add_axes([0.2, 0.5, 0.4, 0.3]) # inset axes\n",
    "    ax1.plot(x, y1) # main figure\n",
    "    ax2.plot(y1, x) # insert\n",
    "elif 0:\n",
    "    # from jrjohansson:\n",
    "    # If we don't care about being explicit about \n",
    "    # where our plot axes are placed in the figure canvas, \n",
    "    # then we can use one of the many axis layout managers in matplotlib. \n",
    "    # My favorite is subplots, which can be used like this:\n",
    "    fig, ax = plt.subplots()\n",
    "    ax.plot(x, y1)\n",
    "elif 0:\n",
    "    # error\n",
    "    # https://stackoverflow.com/questions/37967786/axes-from-plt-subplots-is-a-numpy-ndarray-object-and-has-no-attribute-plot\n",
    "    # If you debug your program by simply printing ax, \n",
    "    # you'll quickly find out that ax is a two-dimensional array: \n",
    "    # one dimension for the rows, one for the columns.\n",
    "    fig, axes = plt.subplots(nrows=2, ncols=3)\n",
    "    for ax in axes:\n",
    "        ax.plot(x, y1)\n",
    "    #print(axes)\n",
    "elif 0:\n",
    "    fig, axes = plt.subplots(nrows=2, ncols=3)\n",
    "    axes[0,0].plot(x,y1)\n",
    "    axes[0,1].plot(y1,x)\n",
    "    axes[0,2].plot(x,y1)\n",
    "    axes[1,0].plot(x,y2)\n",
    "    axes[1,1].plot(y2,x)\n",
    "    axes[1,2].plot(x,y2)\n",
    "elif 0:\n",
    "    fig, ((ax1,ax2,ax3),(ax4,ax5,ax6)) = plt.subplots(2,3)\n",
    "    ax1.plot(x,y1)\n",
    "    ax2.plot(y1,x)\n",
    "    ax3.plot(x,y1)\n",
    "    ax4.plot(x,y2)\n",
    "    ax5.plot(y2,x)\n",
    "    ax6.plot(x,y2)\n",
    "elif 0:\n",
    "    # from jrjohansson:\n",
    "    # That was easy, \n",
    "    # but it isn't so pretty with overlapping figure axes and labels, \n",
    "    # right?\n",
    "    # We can deal with that by using the fig.tight_layout method, \n",
    "    # which automatically adjusts the positions of the axes \n",
    "    # on the figure canvas \n",
    "    # so that there is no overlapping content:\n",
    "    fig, axes = plt.subplots(nrows=2, ncols=3)\n",
    "    axes[0,0].plot(x,y1)\n",
    "    axes[0,1].plot(y1,x)\n",
    "    axes[0,2].plot(x,y1)\n",
    "    axes[1,0].plot(x,y2)\n",
    "    axes[1,1].plot(y2,x)\n",
    "    axes[1,2].plot(x,y2)\n",
    "    fig.tight_layout() # this line is added\n",
    "elif 1:\n",
    "    fig, ((ax1,ax2,ax3),(ax4,ax5,ax6)) = plt.subplots(2,3)\n",
    "    ax1.plot(x,y1)\n",
    "    ax2.plot(y1,x)\n",
    "    ax3.plot(x,y1)\n",
    "    ax4.plot(x,y2)\n",
    "    ax5.plot(y2,x)\n",
    "    ax6.plot(x,y2)      \n",
    "    fig.tight_layout() # this line is added\n",
    "\n",
    "plt.show()"
   ]
  },
  {
   "cell_type": "markdown",
   "metadata": {},
   "source": [
    "# MATLAB-like API vs OOP API"
   ]
  },
  {
   "cell_type": "markdown",
   "metadata": {},
   "source": [
    "##### Aside: Matplotlib Gotchas\n",
    "\n",
    "While most ``plt`` functions translate directly to ``ax`` methods (such as ``plt.plot()`` → ``ax.plot()``, ``plt.legend()`` → ``ax.legend()``, etc.), this is not the case for all commands.\n",
    "In particular, functions to set limits, labels, and titles are slightly modified.\n",
    "For transitioning between MATLAB-style functions and object-oriented methods, make the following changes:\n",
    "\n",
    "- ``plt.xlabel()``  → ``ax.set_xlabel()``\n",
    "- ``plt.ylabel()`` → ``ax.set_ylabel()``\n",
    "- ``plt.xlim()``  → ``ax.set_xlim()``\n",
    "- ``plt.ylim()`` → ``ax.set_ylim()``\n",
    "- ``plt.title()`` → ``ax.set_title()``\n",
    "\n",
    "In the object-oriented interface to plotting, rather than calling these functions individually, it is often more convenient to use the ``ax.set()`` method to set all these properties at once:\n",
    "\n",
    "jakevdp [github](https://github.com/jakevdp/PythonDataScienceHandbook)"
   ]
  },
  {
   "cell_type": "code",
   "execution_count": 35,
   "metadata": {},
   "outputs": [
    {
     "data": {
      "image/png": "[encoded data removed]",
      "text/plain": [
       "<Figure size 432x288 with 1 Axes>"
      ]
     },
     "metadata": {
      "needs_background": "light"
     },
     "output_type": "display_data"
    }
   ],
   "source": [
    "import numpy as np\n",
    "import matplotlib.pyplot as plt\n",
    "\n",
    "x = np.linspace(0, 5, 10)\n",
    "y = x ** 2\n",
    "\n",
    "if 0:\n",
    "    plt.figure()\n",
    "    plt.plot(x, y)\n",
    "    plt.xlabel('x')\n",
    "    plt.ylabel('y')\n",
    "    plt.xlim([2, 5])\n",
    "    plt.ylim([0, 60])\n",
    "    plt.title('title')    \n",
    "elif 1:\n",
    "    fig, ax = plt.subplots()\n",
    "    ax.plot(x, y)\n",
    "    ax.set_xlabel('x')\n",
    "    ax.set_ylabel('y')\n",
    "    ax.set_xlim([2, 5])\n",
    "    ax.set_ylim([0, 60])\n",
    "    ax.set_title('title')\n",
    "    \n",
    "plt.show()"
   ]
  },
  {
   "cell_type": "code",
   "execution_count": null,
   "metadata": {},
   "outputs": [],
   "source": []
  }
 ],
 "metadata": {
  "kernelspec": {
   "display_name": "Python 3",
   "language": "python",
   "name": "python3"
  },
  "language_info": {
   "codemirror_mode": {
    "name": "ipython",
    "version": 3
   },
   "file_extension": ".py",
   "mimetype": "text/x-python",
   "name": "python",
   "nbconvert_exporter": "python",
   "pygments_lexer": "ipython3",
   "version": "3.5.0"
  }
 },
 "nbformat": 4,
 "nbformat_minor": 2
}
